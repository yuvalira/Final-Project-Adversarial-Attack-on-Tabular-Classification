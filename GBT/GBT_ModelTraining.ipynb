{
  "nbformat": 4,
  "nbformat_minor": 0,
  "metadata": {
    "colab": {
      "provenance": [],
      "collapsed_sections": [
        "LIZ03DpO5Wf4",
        "QRXPEpwndR6M"
      ],
      "include_colab_link": true
    },
    "kernelspec": {
      "name": "python3",
      "display_name": "Python 3"
    },
    "language_info": {
      "name": "python"
    },
    "widgets": {
      "application/vnd.jupyter.widget-state+json": {
        "4f381e9dbdd04484afd5f9af2911c1db": {
          "model_module": "@jupyter-widgets/controls",
          "model_name": "HBoxModel",
          "model_module_version": "1.5.0",
          "state": {
            "_dom_classes": [],
            "_model_module": "@jupyter-widgets/controls",
            "_model_module_version": "1.5.0",
            "_model_name": "HBoxModel",
            "_view_count": null,
            "_view_module": "@jupyter-widgets/controls",
            "_view_module_version": "1.5.0",
            "_view_name": "HBoxView",
            "box_style": "",
            "children": [
              "IPY_MODEL_54bca115e5ca47e786050132f869e6ec",
              "IPY_MODEL_4dc2f1ca7e564d58b3ece1c3522b6202",
              "IPY_MODEL_b46e154d8c3f429da71e8ff0cbd8da47"
            ],
            "layout": "IPY_MODEL_5911ebdfb6d840c0a0b67ed0b2d3722c"
          }
        },
        "54bca115e5ca47e786050132f869e6ec": {
          "model_module": "@jupyter-widgets/controls",
          "model_name": "HTMLModel",
          "model_module_version": "1.5.0",
          "state": {
            "_dom_classes": [],
            "_model_module": "@jupyter-widgets/controls",
            "_model_module_version": "1.5.0",
            "_model_name": "HTMLModel",
            "_view_count": null,
            "_view_module": "@jupyter-widgets/controls",
            "_view_module_version": "1.5.0",
            "_view_name": "HTMLView",
            "description": "",
            "description_tooltip": null,
            "layout": "IPY_MODEL_75acd14ce8ce47388421cb1838fb8744",
            "placeholder": "​",
            "style": "IPY_MODEL_14660db59dd14420b6fe7c6de7e66601",
            "value": "train_data.csv: 100%"
          }
        },
        "4dc2f1ca7e564d58b3ece1c3522b6202": {
          "model_module": "@jupyter-widgets/controls",
          "model_name": "FloatProgressModel",
          "model_module_version": "1.5.0",
          "state": {
            "_dom_classes": [],
            "_model_module": "@jupyter-widgets/controls",
            "_model_module_version": "1.5.0",
            "_model_name": "FloatProgressModel",
            "_view_count": null,
            "_view_module": "@jupyter-widgets/controls",
            "_view_module_version": "1.5.0",
            "_view_name": "ProgressView",
            "bar_style": "success",
            "description": "",
            "description_tooltip": null,
            "layout": "IPY_MODEL_ff7e9d2b5b6342dab11f65128ed7c731",
            "max": 1165011,
            "min": 0,
            "orientation": "horizontal",
            "style": "IPY_MODEL_99b07c98f2034505be7152f79c5e379f",
            "value": 1165011
          }
        },
        "b46e154d8c3f429da71e8ff0cbd8da47": {
          "model_module": "@jupyter-widgets/controls",
          "model_name": "HTMLModel",
          "model_module_version": "1.5.0",
          "state": {
            "_dom_classes": [],
            "_model_module": "@jupyter-widgets/controls",
            "_model_module_version": "1.5.0",
            "_model_name": "HTMLModel",
            "_view_count": null,
            "_view_module": "@jupyter-widgets/controls",
            "_view_module_version": "1.5.0",
            "_view_name": "HTMLView",
            "description": "",
            "description_tooltip": null,
            "layout": "IPY_MODEL_38f073cc60d646c58bc252adf1f356cc",
            "placeholder": "​",
            "style": "IPY_MODEL_e6dd3f6e6ad5476ab49329935f075559",
            "value": " 1.17M/1.17M [00:00&lt;00:00, 4.76MB/s]"
          }
        },
        "5911ebdfb6d840c0a0b67ed0b2d3722c": {
          "model_module": "@jupyter-widgets/base",
          "model_name": "LayoutModel",
          "model_module_version": "1.2.0",
          "state": {
            "_model_module": "@jupyter-widgets/base",
            "_model_module_version": "1.2.0",
            "_model_name": "LayoutModel",
            "_view_count": null,
            "_view_module": "@jupyter-widgets/base",
            "_view_module_version": "1.2.0",
            "_view_name": "LayoutView",
            "align_content": null,
            "align_items": null,
            "align_self": null,
            "border": null,
            "bottom": null,
            "display": null,
            "flex": null,
            "flex_flow": null,
            "grid_area": null,
            "grid_auto_columns": null,
            "grid_auto_flow": null,
            "grid_auto_rows": null,
            "grid_column": null,
            "grid_gap": null,
            "grid_row": null,
            "grid_template_areas": null,
            "grid_template_columns": null,
            "grid_template_rows": null,
            "height": null,
            "justify_content": null,
            "justify_items": null,
            "left": null,
            "margin": null,
            "max_height": null,
            "max_width": null,
            "min_height": null,
            "min_width": null,
            "object_fit": null,
            "object_position": null,
            "order": null,
            "overflow": null,
            "overflow_x": null,
            "overflow_y": null,
            "padding": null,
            "right": null,
            "top": null,
            "visibility": null,
            "width": null
          }
        },
        "75acd14ce8ce47388421cb1838fb8744": {
          "model_module": "@jupyter-widgets/base",
          "model_name": "LayoutModel",
          "model_module_version": "1.2.0",
          "state": {
            "_model_module": "@jupyter-widgets/base",
            "_model_module_version": "1.2.0",
            "_model_name": "LayoutModel",
            "_view_count": null,
            "_view_module": "@jupyter-widgets/base",
            "_view_module_version": "1.2.0",
            "_view_name": "LayoutView",
            "align_content": null,
            "align_items": null,
            "align_self": null,
            "border": null,
            "bottom": null,
            "display": null,
            "flex": null,
            "flex_flow": null,
            "grid_area": null,
            "grid_auto_columns": null,
            "grid_auto_flow": null,
            "grid_auto_rows": null,
            "grid_column": null,
            "grid_gap": null,
            "grid_row": null,
            "grid_template_areas": null,
            "grid_template_columns": null,
            "grid_template_rows": null,
            "height": null,
            "justify_content": null,
            "justify_items": null,
            "left": null,
            "margin": null,
            "max_height": null,
            "max_width": null,
            "min_height": null,
            "min_width": null,
            "object_fit": null,
            "object_position": null,
            "order": null,
            "overflow": null,
            "overflow_x": null,
            "overflow_y": null,
            "padding": null,
            "right": null,
            "top": null,
            "visibility": null,
            "width": null
          }
        },
        "14660db59dd14420b6fe7c6de7e66601": {
          "model_module": "@jupyter-widgets/controls",
          "model_name": "DescriptionStyleModel",
          "model_module_version": "1.5.0",
          "state": {
            "_model_module": "@jupyter-widgets/controls",
            "_model_module_version": "1.5.0",
            "_model_name": "DescriptionStyleModel",
            "_view_count": null,
            "_view_module": "@jupyter-widgets/base",
            "_view_module_version": "1.2.0",
            "_view_name": "StyleView",
            "description_width": ""
          }
        },
        "ff7e9d2b5b6342dab11f65128ed7c731": {
          "model_module": "@jupyter-widgets/base",
          "model_name": "LayoutModel",
          "model_module_version": "1.2.0",
          "state": {
            "_model_module": "@jupyter-widgets/base",
            "_model_module_version": "1.2.0",
            "_model_name": "LayoutModel",
            "_view_count": null,
            "_view_module": "@jupyter-widgets/base",
            "_view_module_version": "1.2.0",
            "_view_name": "LayoutView",
            "align_content": null,
            "align_items": null,
            "align_self": null,
            "border": null,
            "bottom": null,
            "display": null,
            "flex": null,
            "flex_flow": null,
            "grid_area": null,
            "grid_auto_columns": null,
            "grid_auto_flow": null,
            "grid_auto_rows": null,
            "grid_column": null,
            "grid_gap": null,
            "grid_row": null,
            "grid_template_areas": null,
            "grid_template_columns": null,
            "grid_template_rows": null,
            "height": null,
            "justify_content": null,
            "justify_items": null,
            "left": null,
            "margin": null,
            "max_height": null,
            "max_width": null,
            "min_height": null,
            "min_width": null,
            "object_fit": null,
            "object_position": null,
            "order": null,
            "overflow": null,
            "overflow_x": null,
            "overflow_y": null,
            "padding": null,
            "right": null,
            "top": null,
            "visibility": null,
            "width": null
          }
        },
        "99b07c98f2034505be7152f79c5e379f": {
          "model_module": "@jupyter-widgets/controls",
          "model_name": "ProgressStyleModel",
          "model_module_version": "1.5.0",
          "state": {
            "_model_module": "@jupyter-widgets/controls",
            "_model_module_version": "1.5.0",
            "_model_name": "ProgressStyleModel",
            "_view_count": null,
            "_view_module": "@jupyter-widgets/base",
            "_view_module_version": "1.2.0",
            "_view_name": "StyleView",
            "bar_color": null,
            "description_width": ""
          }
        },
        "38f073cc60d646c58bc252adf1f356cc": {
          "model_module": "@jupyter-widgets/base",
          "model_name": "LayoutModel",
          "model_module_version": "1.2.0",
          "state": {
            "_model_module": "@jupyter-widgets/base",
            "_model_module_version": "1.2.0",
            "_model_name": "LayoutModel",
            "_view_count": null,
            "_view_module": "@jupyter-widgets/base",
            "_view_module_version": "1.2.0",
            "_view_name": "LayoutView",
            "align_content": null,
            "align_items": null,
            "align_self": null,
            "border": null,
            "bottom": null,
            "display": null,
            "flex": null,
            "flex_flow": null,
            "grid_area": null,
            "grid_auto_columns": null,
            "grid_auto_flow": null,
            "grid_auto_rows": null,
            "grid_column": null,
            "grid_gap": null,
            "grid_row": null,
            "grid_template_areas": null,
            "grid_template_columns": null,
            "grid_template_rows": null,
            "height": null,
            "justify_content": null,
            "justify_items": null,
            "left": null,
            "margin": null,
            "max_height": null,
            "max_width": null,
            "min_height": null,
            "min_width": null,
            "object_fit": null,
            "object_position": null,
            "order": null,
            "overflow": null,
            "overflow_x": null,
            "overflow_y": null,
            "padding": null,
            "right": null,
            "top": null,
            "visibility": null,
            "width": null
          }
        },
        "e6dd3f6e6ad5476ab49329935f075559": {
          "model_module": "@jupyter-widgets/controls",
          "model_name": "DescriptionStyleModel",
          "model_module_version": "1.5.0",
          "state": {
            "_model_module": "@jupyter-widgets/controls",
            "_model_module_version": "1.5.0",
            "_model_name": "DescriptionStyleModel",
            "_view_count": null,
            "_view_module": "@jupyter-widgets/base",
            "_view_module_version": "1.2.0",
            "_view_name": "StyleView",
            "description_width": ""
          }
        },
        "e03182b5acab497cba84f31bb13dcb6a": {
          "model_module": "@jupyter-widgets/controls",
          "model_name": "HBoxModel",
          "model_module_version": "1.5.0",
          "state": {
            "_dom_classes": [],
            "_model_module": "@jupyter-widgets/controls",
            "_model_module_version": "1.5.0",
            "_model_name": "HBoxModel",
            "_view_count": null,
            "_view_module": "@jupyter-widgets/controls",
            "_view_module_version": "1.5.0",
            "_view_name": "HBoxView",
            "box_style": "",
            "children": [
              "IPY_MODEL_1866dadc8b0e47c1b6a3a0dfae32d214",
              "IPY_MODEL_19d0c23928504a25967850a2cf84f8cf",
              "IPY_MODEL_6220516260c640b8a7c0f6d5df1ca72e"
            ],
            "layout": "IPY_MODEL_356f711d7f844a108a51e49d9a9d4df3"
          }
        },
        "1866dadc8b0e47c1b6a3a0dfae32d214": {
          "model_module": "@jupyter-widgets/controls",
          "model_name": "HTMLModel",
          "model_module_version": "1.5.0",
          "state": {
            "_dom_classes": [],
            "_model_module": "@jupyter-widgets/controls",
            "_model_module_version": "1.5.0",
            "_model_name": "HTMLModel",
            "_view_count": null,
            "_view_module": "@jupyter-widgets/controls",
            "_view_module_version": "1.5.0",
            "_view_name": "HTMLView",
            "description": "",
            "description_tooltip": null,
            "layout": "IPY_MODEL_4e6b9505c90d4152ae24ef0ee6f41530",
            "placeholder": "​",
            "style": "IPY_MODEL_af91af27717d4604932589a4b76764b6",
            "value": "validation_data.csv: 100%"
          }
        },
        "19d0c23928504a25967850a2cf84f8cf": {
          "model_module": "@jupyter-widgets/controls",
          "model_name": "FloatProgressModel",
          "model_module_version": "1.5.0",
          "state": {
            "_dom_classes": [],
            "_model_module": "@jupyter-widgets/controls",
            "_model_module_version": "1.5.0",
            "_model_name": "FloatProgressModel",
            "_view_count": null,
            "_view_module": "@jupyter-widgets/controls",
            "_view_module_version": "1.5.0",
            "_view_name": "ProgressView",
            "bar_style": "success",
            "description": "",
            "description_tooltip": null,
            "layout": "IPY_MODEL_c38c30a18f744e85aa9c2639d4389f2c",
            "max": 233239,
            "min": 0,
            "orientation": "horizontal",
            "style": "IPY_MODEL_fa6eccf4a896458888e23fbceaf406fc",
            "value": 233239
          }
        },
        "6220516260c640b8a7c0f6d5df1ca72e": {
          "model_module": "@jupyter-widgets/controls",
          "model_name": "HTMLModel",
          "model_module_version": "1.5.0",
          "state": {
            "_dom_classes": [],
            "_model_module": "@jupyter-widgets/controls",
            "_model_module_version": "1.5.0",
            "_model_name": "HTMLModel",
            "_view_count": null,
            "_view_module": "@jupyter-widgets/controls",
            "_view_module_version": "1.5.0",
            "_view_name": "HTMLView",
            "description": "",
            "description_tooltip": null,
            "layout": "IPY_MODEL_bacd7a17a12344319e7fda7c067fe266",
            "placeholder": "​",
            "style": "IPY_MODEL_21e287a34a8f43deaa1f3a9cd7b2f7a1",
            "value": " 233k/233k [00:00&lt;00:00, 5.71MB/s]"
          }
        },
        "356f711d7f844a108a51e49d9a9d4df3": {
          "model_module": "@jupyter-widgets/base",
          "model_name": "LayoutModel",
          "model_module_version": "1.2.0",
          "state": {
            "_model_module": "@jupyter-widgets/base",
            "_model_module_version": "1.2.0",
            "_model_name": "LayoutModel",
            "_view_count": null,
            "_view_module": "@jupyter-widgets/base",
            "_view_module_version": "1.2.0",
            "_view_name": "LayoutView",
            "align_content": null,
            "align_items": null,
            "align_self": null,
            "border": null,
            "bottom": null,
            "display": null,
            "flex": null,
            "flex_flow": null,
            "grid_area": null,
            "grid_auto_columns": null,
            "grid_auto_flow": null,
            "grid_auto_rows": null,
            "grid_column": null,
            "grid_gap": null,
            "grid_row": null,
            "grid_template_areas": null,
            "grid_template_columns": null,
            "grid_template_rows": null,
            "height": null,
            "justify_content": null,
            "justify_items": null,
            "left": null,
            "margin": null,
            "max_height": null,
            "max_width": null,
            "min_height": null,
            "min_width": null,
            "object_fit": null,
            "object_position": null,
            "order": null,
            "overflow": null,
            "overflow_x": null,
            "overflow_y": null,
            "padding": null,
            "right": null,
            "top": null,
            "visibility": null,
            "width": null
          }
        },
        "4e6b9505c90d4152ae24ef0ee6f41530": {
          "model_module": "@jupyter-widgets/base",
          "model_name": "LayoutModel",
          "model_module_version": "1.2.0",
          "state": {
            "_model_module": "@jupyter-widgets/base",
            "_model_module_version": "1.2.0",
            "_model_name": "LayoutModel",
            "_view_count": null,
            "_view_module": "@jupyter-widgets/base",
            "_view_module_version": "1.2.0",
            "_view_name": "LayoutView",
            "align_content": null,
            "align_items": null,
            "align_self": null,
            "border": null,
            "bottom": null,
            "display": null,
            "flex": null,
            "flex_flow": null,
            "grid_area": null,
            "grid_auto_columns": null,
            "grid_auto_flow": null,
            "grid_auto_rows": null,
            "grid_column": null,
            "grid_gap": null,
            "grid_row": null,
            "grid_template_areas": null,
            "grid_template_columns": null,
            "grid_template_rows": null,
            "height": null,
            "justify_content": null,
            "justify_items": null,
            "left": null,
            "margin": null,
            "max_height": null,
            "max_width": null,
            "min_height": null,
            "min_width": null,
            "object_fit": null,
            "object_position": null,
            "order": null,
            "overflow": null,
            "overflow_x": null,
            "overflow_y": null,
            "padding": null,
            "right": null,
            "top": null,
            "visibility": null,
            "width": null
          }
        },
        "af91af27717d4604932589a4b76764b6": {
          "model_module": "@jupyter-widgets/controls",
          "model_name": "DescriptionStyleModel",
          "model_module_version": "1.5.0",
          "state": {
            "_model_module": "@jupyter-widgets/controls",
            "_model_module_version": "1.5.0",
            "_model_name": "DescriptionStyleModel",
            "_view_count": null,
            "_view_module": "@jupyter-widgets/base",
            "_view_module_version": "1.2.0",
            "_view_name": "StyleView",
            "description_width": ""
          }
        },
        "c38c30a18f744e85aa9c2639d4389f2c": {
          "model_module": "@jupyter-widgets/base",
          "model_name": "LayoutModel",
          "model_module_version": "1.2.0",
          "state": {
            "_model_module": "@jupyter-widgets/base",
            "_model_module_version": "1.2.0",
            "_model_name": "LayoutModel",
            "_view_count": null,
            "_view_module": "@jupyter-widgets/base",
            "_view_module_version": "1.2.0",
            "_view_name": "LayoutView",
            "align_content": null,
            "align_items": null,
            "align_self": null,
            "border": null,
            "bottom": null,
            "display": null,
            "flex": null,
            "flex_flow": null,
            "grid_area": null,
            "grid_auto_columns": null,
            "grid_auto_flow": null,
            "grid_auto_rows": null,
            "grid_column": null,
            "grid_gap": null,
            "grid_row": null,
            "grid_template_areas": null,
            "grid_template_columns": null,
            "grid_template_rows": null,
            "height": null,
            "justify_content": null,
            "justify_items": null,
            "left": null,
            "margin": null,
            "max_height": null,
            "max_width": null,
            "min_height": null,
            "min_width": null,
            "object_fit": null,
            "object_position": null,
            "order": null,
            "overflow": null,
            "overflow_x": null,
            "overflow_y": null,
            "padding": null,
            "right": null,
            "top": null,
            "visibility": null,
            "width": null
          }
        },
        "fa6eccf4a896458888e23fbceaf406fc": {
          "model_module": "@jupyter-widgets/controls",
          "model_name": "ProgressStyleModel",
          "model_module_version": "1.5.0",
          "state": {
            "_model_module": "@jupyter-widgets/controls",
            "_model_module_version": "1.5.0",
            "_model_name": "ProgressStyleModel",
            "_view_count": null,
            "_view_module": "@jupyter-widgets/base",
            "_view_module_version": "1.2.0",
            "_view_name": "StyleView",
            "bar_color": null,
            "description_width": ""
          }
        },
        "bacd7a17a12344319e7fda7c067fe266": {
          "model_module": "@jupyter-widgets/base",
          "model_name": "LayoutModel",
          "model_module_version": "1.2.0",
          "state": {
            "_model_module": "@jupyter-widgets/base",
            "_model_module_version": "1.2.0",
            "_model_name": "LayoutModel",
            "_view_count": null,
            "_view_module": "@jupyter-widgets/base",
            "_view_module_version": "1.2.0",
            "_view_name": "LayoutView",
            "align_content": null,
            "align_items": null,
            "align_self": null,
            "border": null,
            "bottom": null,
            "display": null,
            "flex": null,
            "flex_flow": null,
            "grid_area": null,
            "grid_auto_columns": null,
            "grid_auto_flow": null,
            "grid_auto_rows": null,
            "grid_column": null,
            "grid_gap": null,
            "grid_row": null,
            "grid_template_areas": null,
            "grid_template_columns": null,
            "grid_template_rows": null,
            "height": null,
            "justify_content": null,
            "justify_items": null,
            "left": null,
            "margin": null,
            "max_height": null,
            "max_width": null,
            "min_height": null,
            "min_width": null,
            "object_fit": null,
            "object_position": null,
            "order": null,
            "overflow": null,
            "overflow_x": null,
            "overflow_y": null,
            "padding": null,
            "right": null,
            "top": null,
            "visibility": null,
            "width": null
          }
        },
        "21e287a34a8f43deaa1f3a9cd7b2f7a1": {
          "model_module": "@jupyter-widgets/controls",
          "model_name": "DescriptionStyleModel",
          "model_module_version": "1.5.0",
          "state": {
            "_model_module": "@jupyter-widgets/controls",
            "_model_module_version": "1.5.0",
            "_model_name": "DescriptionStyleModel",
            "_view_count": null,
            "_view_module": "@jupyter-widgets/base",
            "_view_module_version": "1.2.0",
            "_view_name": "StyleView",
            "description_width": ""
          }
        },
        "36aadbf1d15f4d949984bdf226247dae": {
          "model_module": "@jupyter-widgets/controls",
          "model_name": "HBoxModel",
          "model_module_version": "1.5.0",
          "state": {
            "_dom_classes": [],
            "_model_module": "@jupyter-widgets/controls",
            "_model_module_version": "1.5.0",
            "_model_name": "HBoxModel",
            "_view_count": null,
            "_view_module": "@jupyter-widgets/controls",
            "_view_module_version": "1.5.0",
            "_view_name": "HBoxView",
            "box_style": "",
            "children": [
              "IPY_MODEL_db0c362043f14e50a989c4bd40ff9ee1",
              "IPY_MODEL_4bcebfc957ad4855a975b22c5163b3fc",
              "IPY_MODEL_73d5bfb9890341ffb859b54ead6875f7"
            ],
            "layout": "IPY_MODEL_c667ef6afa9f4cddb4c8abdf9086fdbd"
          }
        },
        "db0c362043f14e50a989c4bd40ff9ee1": {
          "model_module": "@jupyter-widgets/controls",
          "model_name": "HTMLModel",
          "model_module_version": "1.5.0",
          "state": {
            "_dom_classes": [],
            "_model_module": "@jupyter-widgets/controls",
            "_model_module_version": "1.5.0",
            "_model_name": "HTMLModel",
            "_view_count": null,
            "_view_module": "@jupyter-widgets/controls",
            "_view_module_version": "1.5.0",
            "_view_name": "HTMLView",
            "description": "",
            "description_tooltip": null,
            "layout": "IPY_MODEL_a682bbe3ea374959abed6c5d9e17a226",
            "placeholder": "​",
            "style": "IPY_MODEL_bc52addcc7984a78926eccc726879ca0",
            "value": "experiment_data.csv: 100%"
          }
        },
        "4bcebfc957ad4855a975b22c5163b3fc": {
          "model_module": "@jupyter-widgets/controls",
          "model_name": "FloatProgressModel",
          "model_module_version": "1.5.0",
          "state": {
            "_dom_classes": [],
            "_model_module": "@jupyter-widgets/controls",
            "_model_module_version": "1.5.0",
            "_model_name": "FloatProgressModel",
            "_view_count": null,
            "_view_module": "@jupyter-widgets/controls",
            "_view_module_version": "1.5.0",
            "_view_name": "ProgressView",
            "bar_style": "success",
            "description": "",
            "description_tooltip": null,
            "layout": "IPY_MODEL_8532b1b6f8554d18b13651932590fb8a",
            "max": 932579,
            "min": 0,
            "orientation": "horizontal",
            "style": "IPY_MODEL_39d09caff18b4fee97d69cd9fb36bbb3",
            "value": 932579
          }
        },
        "73d5bfb9890341ffb859b54ead6875f7": {
          "model_module": "@jupyter-widgets/controls",
          "model_name": "HTMLModel",
          "model_module_version": "1.5.0",
          "state": {
            "_dom_classes": [],
            "_model_module": "@jupyter-widgets/controls",
            "_model_module_version": "1.5.0",
            "_model_name": "HTMLModel",
            "_view_count": null,
            "_view_module": "@jupyter-widgets/controls",
            "_view_module_version": "1.5.0",
            "_view_name": "HTMLView",
            "description": "",
            "description_tooltip": null,
            "layout": "IPY_MODEL_c7bc3ff013f84e6485851438d92c3864",
            "placeholder": "​",
            "style": "IPY_MODEL_f5f2ed0cd80d4893b62982019f038d13",
            "value": " 933k/933k [00:00&lt;00:00, 14.7MB/s]"
          }
        },
        "c667ef6afa9f4cddb4c8abdf9086fdbd": {
          "model_module": "@jupyter-widgets/base",
          "model_name": "LayoutModel",
          "model_module_version": "1.2.0",
          "state": {
            "_model_module": "@jupyter-widgets/base",
            "_model_module_version": "1.2.0",
            "_model_name": "LayoutModel",
            "_view_count": null,
            "_view_module": "@jupyter-widgets/base",
            "_view_module_version": "1.2.0",
            "_view_name": "LayoutView",
            "align_content": null,
            "align_items": null,
            "align_self": null,
            "border": null,
            "bottom": null,
            "display": null,
            "flex": null,
            "flex_flow": null,
            "grid_area": null,
            "grid_auto_columns": null,
            "grid_auto_flow": null,
            "grid_auto_rows": null,
            "grid_column": null,
            "grid_gap": null,
            "grid_row": null,
            "grid_template_areas": null,
            "grid_template_columns": null,
            "grid_template_rows": null,
            "height": null,
            "justify_content": null,
            "justify_items": null,
            "left": null,
            "margin": null,
            "max_height": null,
            "max_width": null,
            "min_height": null,
            "min_width": null,
            "object_fit": null,
            "object_position": null,
            "order": null,
            "overflow": null,
            "overflow_x": null,
            "overflow_y": null,
            "padding": null,
            "right": null,
            "top": null,
            "visibility": null,
            "width": null
          }
        },
        "a682bbe3ea374959abed6c5d9e17a226": {
          "model_module": "@jupyter-widgets/base",
          "model_name": "LayoutModel",
          "model_module_version": "1.2.0",
          "state": {
            "_model_module": "@jupyter-widgets/base",
            "_model_module_version": "1.2.0",
            "_model_name": "LayoutModel",
            "_view_count": null,
            "_view_module": "@jupyter-widgets/base",
            "_view_module_version": "1.2.0",
            "_view_name": "LayoutView",
            "align_content": null,
            "align_items": null,
            "align_self": null,
            "border": null,
            "bottom": null,
            "display": null,
            "flex": null,
            "flex_flow": null,
            "grid_area": null,
            "grid_auto_columns": null,
            "grid_auto_flow": null,
            "grid_auto_rows": null,
            "grid_column": null,
            "grid_gap": null,
            "grid_row": null,
            "grid_template_areas": null,
            "grid_template_columns": null,
            "grid_template_rows": null,
            "height": null,
            "justify_content": null,
            "justify_items": null,
            "left": null,
            "margin": null,
            "max_height": null,
            "max_width": null,
            "min_height": null,
            "min_width": null,
            "object_fit": null,
            "object_position": null,
            "order": null,
            "overflow": null,
            "overflow_x": null,
            "overflow_y": null,
            "padding": null,
            "right": null,
            "top": null,
            "visibility": null,
            "width": null
          }
        },
        "bc52addcc7984a78926eccc726879ca0": {
          "model_module": "@jupyter-widgets/controls",
          "model_name": "DescriptionStyleModel",
          "model_module_version": "1.5.0",
          "state": {
            "_model_module": "@jupyter-widgets/controls",
            "_model_module_version": "1.5.0",
            "_model_name": "DescriptionStyleModel",
            "_view_count": null,
            "_view_module": "@jupyter-widgets/base",
            "_view_module_version": "1.2.0",
            "_view_name": "StyleView",
            "description_width": ""
          }
        },
        "8532b1b6f8554d18b13651932590fb8a": {
          "model_module": "@jupyter-widgets/base",
          "model_name": "LayoutModel",
          "model_module_version": "1.2.0",
          "state": {
            "_model_module": "@jupyter-widgets/base",
            "_model_module_version": "1.2.0",
            "_model_name": "LayoutModel",
            "_view_count": null,
            "_view_module": "@jupyter-widgets/base",
            "_view_module_version": "1.2.0",
            "_view_name": "LayoutView",
            "align_content": null,
            "align_items": null,
            "align_self": null,
            "border": null,
            "bottom": null,
            "display": null,
            "flex": null,
            "flex_flow": null,
            "grid_area": null,
            "grid_auto_columns": null,
            "grid_auto_flow": null,
            "grid_auto_rows": null,
            "grid_column": null,
            "grid_gap": null,
            "grid_row": null,
            "grid_template_areas": null,
            "grid_template_columns": null,
            "grid_template_rows": null,
            "height": null,
            "justify_content": null,
            "justify_items": null,
            "left": null,
            "margin": null,
            "max_height": null,
            "max_width": null,
            "min_height": null,
            "min_width": null,
            "object_fit": null,
            "object_position": null,
            "order": null,
            "overflow": null,
            "overflow_x": null,
            "overflow_y": null,
            "padding": null,
            "right": null,
            "top": null,
            "visibility": null,
            "width": null
          }
        },
        "39d09caff18b4fee97d69cd9fb36bbb3": {
          "model_module": "@jupyter-widgets/controls",
          "model_name": "ProgressStyleModel",
          "model_module_version": "1.5.0",
          "state": {
            "_model_module": "@jupyter-widgets/controls",
            "_model_module_version": "1.5.0",
            "_model_name": "ProgressStyleModel",
            "_view_count": null,
            "_view_module": "@jupyter-widgets/base",
            "_view_module_version": "1.2.0",
            "_view_name": "StyleView",
            "bar_color": null,
            "description_width": ""
          }
        },
        "c7bc3ff013f84e6485851438d92c3864": {
          "model_module": "@jupyter-widgets/base",
          "model_name": "LayoutModel",
          "model_module_version": "1.2.0",
          "state": {
            "_model_module": "@jupyter-widgets/base",
            "_model_module_version": "1.2.0",
            "_model_name": "LayoutModel",
            "_view_count": null,
            "_view_module": "@jupyter-widgets/base",
            "_view_module_version": "1.2.0",
            "_view_name": "LayoutView",
            "align_content": null,
            "align_items": null,
            "align_self": null,
            "border": null,
            "bottom": null,
            "display": null,
            "flex": null,
            "flex_flow": null,
            "grid_area": null,
            "grid_auto_columns": null,
            "grid_auto_flow": null,
            "grid_auto_rows": null,
            "grid_column": null,
            "grid_gap": null,
            "grid_row": null,
            "grid_template_areas": null,
            "grid_template_columns": null,
            "grid_template_rows": null,
            "height": null,
            "justify_content": null,
            "justify_items": null,
            "left": null,
            "margin": null,
            "max_height": null,
            "max_width": null,
            "min_height": null,
            "min_width": null,
            "object_fit": null,
            "object_position": null,
            "order": null,
            "overflow": null,
            "overflow_x": null,
            "overflow_y": null,
            "padding": null,
            "right": null,
            "top": null,
            "visibility": null,
            "width": null
          }
        },
        "f5f2ed0cd80d4893b62982019f038d13": {
          "model_module": "@jupyter-widgets/controls",
          "model_name": "DescriptionStyleModel",
          "model_module_version": "1.5.0",
          "state": {
            "_model_module": "@jupyter-widgets/controls",
            "_model_module_version": "1.5.0",
            "_model_name": "DescriptionStyleModel",
            "_view_count": null,
            "_view_module": "@jupyter-widgets/base",
            "_view_module_version": "1.2.0",
            "_view_name": "StyleView",
            "description_width": ""
          }
        }
      }
    }
  },
  "cells": [
    {
      "cell_type": "markdown",
      "metadata": {
        "id": "view-in-github",
        "colab_type": "text"
      },
      "source": [
        "<a href=\"https://colab.research.google.com/github/yuvalira/Final-Project-Adversarial-Attack-on-Tabular-Classification/blob/main/GBT/GBT_ModelTraining.ipynb\" target=\"_parent\"><img src=\"https://colab.research.google.com/assets/colab-badge.svg\" alt=\"Open In Colab\"/></a>"
      ]
    },
    {
      "cell_type": "code",
      "execution_count": 1,
      "metadata": {
        "id": "BAmAJ1SB4Prh"
      },
      "outputs": [],
      "source": [
        "# Standard library\n",
        "import os\n",
        "import time\n",
        "import random\n",
        "\n",
        "# Data loading\n",
        "from huggingface_hub import hf_hub_download\n",
        "\n",
        "# Data handling\n",
        "import pandas as pd\n",
        "import numpy as np\n",
        "\n",
        "# Visualization\n",
        "import matplotlib.pyplot as plt\n",
        "import seaborn as sn\n",
        "\n",
        "# Scikit-learn: Preprocessing, Modeling, Evaluation\n",
        "from sklearn.preprocessing import LabelEncoder\n",
        "from sklearn.model_selection import train_test_split\n",
        "from sklearn.metrics import (\n",
        "    accuracy_score,\n",
        "    precision_score,\n",
        "    recall_score,\n",
        "    f1_score,\n",
        "    roc_auc_score,\n",
        "    roc_curve\n",
        ")\n",
        "from sklearn.ensemble import GradientBoostingClassifier"
      ]
    },
    {
      "cell_type": "markdown",
      "metadata": {
        "id": "_U6mUNht8_vr"
      },
      "source": [
        "#**Classical Model**\n",
        "In this section, we implement a classical tree-based machine learning model to serve as a performance baseline for comparison against Large Language Models (LLMs) on a tabular classification task."
      ]
    },
    {
      "cell_type": "markdown",
      "source": [
        "Scikit-learn Gradient Boosted Trees (GBT)\n",
        "\n",
        "This project uses the Gradient Boosted Trees (GBT) implementation from the popular scikit-learn machine learning library.  \n",
        "GBT is a powerful ensemble learning method that builds models by combining many weak learners (decision trees) into a strong predictive model.  \n",
        "We selected this approach because it integrates well with tabular data, provides strong performance, and avoids the current compatibility limitations of TensorFlow Decision Forests with Keras 3.\n",
        "\n",
        "There are other existing implementations of GBT, including TensorFlow Decision Forests [1], XGBoost [2], and LightGBM [3].  \n",
        "We chose to implement the model using scikit-learn [0] due to its simplicity, stability, and excellent compatibility with research workflows in Python.\n",
        "\n",
        "References:\n",
        "\n",
        "[0] Scikit-learn: https://scikit-learn.org/stable/  \n",
        "[1] TensorFlow Decision Forests: https://www.tensorflow.org/decision_forests  \n",
        "[2] XGBoost: https://xgboost.readthedocs.io/  \n",
        "[3] LightGBM: https://lightgbm.readthedocs.io/\n"
      ],
      "metadata": {
        "id": "C06aJBdr5LwP"
      }
    },
    {
      "cell_type": "markdown",
      "metadata": {
        "id": "LIZ03DpO5Wf4"
      },
      "source": [
        "### 1. Setup"
      ]
    },
    {
      "cell_type": "code",
      "source": [
        "!pip install -U scikit-learn"
      ],
      "metadata": {
        "colab": {
          "base_uri": "https://localhost:8080/"
        },
        "id": "p_AEghQd5xtI",
        "outputId": "2498cad8-09a0-4d60-89df-fd29528236e8"
      },
      "execution_count": 2,
      "outputs": [
        {
          "output_type": "stream",
          "name": "stdout",
          "text": [
            "Requirement already satisfied: scikit-learn in /usr/local/lib/python3.11/dist-packages (1.6.1)\n",
            "Requirement already satisfied: numpy>=1.19.5 in /usr/local/lib/python3.11/dist-packages (from scikit-learn) (2.0.2)\n",
            "Requirement already satisfied: scipy>=1.6.0 in /usr/local/lib/python3.11/dist-packages (from scikit-learn) (1.15.3)\n",
            "Requirement already satisfied: joblib>=1.2.0 in /usr/local/lib/python3.11/dist-packages (from scikit-learn) (1.5.0)\n",
            "Requirement already satisfied: threadpoolctl>=3.1.0 in /usr/local/lib/python3.11/dist-packages (from scikit-learn) (3.6.0)\n"
          ]
        }
      ]
    },
    {
      "cell_type": "markdown",
      "metadata": {
        "id": "QRXPEpwndR6M"
      },
      "source": [
        "### 2. Data Pre-Processing"
      ]
    },
    {
      "cell_type": "markdown",
      "source": [
        "Reading data-frames from Huggingface"
      ],
      "metadata": {
        "id": "-J6kiBJL6v4_"
      }
    },
    {
      "cell_type": "code",
      "source": [
        "repo_id = \"ETdanR/Balanced_Adult_Split_DS\" # dataset repo\n",
        "\n",
        "# Read train dataset\n",
        "csv_filename = \"train_data.csv\"\n",
        "csv_path = hf_hub_download(repo_id=repo_id, filename=csv_filename)\n",
        "train_data = pd.read_csv(csv_path)\n",
        "\n",
        "# Read validation dataset\n",
        "csv_filename = \"validation_data.csv\"\n",
        "csv_path = hf_hub_download(repo_id=repo_id, filename=csv_filename)\n",
        "val_data = pd.read_csv(csv_path)\n",
        "\n",
        "# Read test dataset\n",
        "csv_filename = \"experiment_data.csv\"\n",
        "csv_path = hf_hub_download(repo_id=repo_id, filename=csv_filename)\n",
        "test_data = pd.read_csv(csv_path)"
      ],
      "metadata": {
        "colab": {
          "base_uri": "https://localhost:8080/",
          "height": 217,
          "referenced_widgets": [
            "4f381e9dbdd04484afd5f9af2911c1db",
            "54bca115e5ca47e786050132f869e6ec",
            "4dc2f1ca7e564d58b3ece1c3522b6202",
            "b46e154d8c3f429da71e8ff0cbd8da47",
            "5911ebdfb6d840c0a0b67ed0b2d3722c",
            "75acd14ce8ce47388421cb1838fb8744",
            "14660db59dd14420b6fe7c6de7e66601",
            "ff7e9d2b5b6342dab11f65128ed7c731",
            "99b07c98f2034505be7152f79c5e379f",
            "38f073cc60d646c58bc252adf1f356cc",
            "e6dd3f6e6ad5476ab49329935f075559",
            "e03182b5acab497cba84f31bb13dcb6a",
            "1866dadc8b0e47c1b6a3a0dfae32d214",
            "19d0c23928504a25967850a2cf84f8cf",
            "6220516260c640b8a7c0f6d5df1ca72e",
            "356f711d7f844a108a51e49d9a9d4df3",
            "4e6b9505c90d4152ae24ef0ee6f41530",
            "af91af27717d4604932589a4b76764b6",
            "c38c30a18f744e85aa9c2639d4389f2c",
            "fa6eccf4a896458888e23fbceaf406fc",
            "bacd7a17a12344319e7fda7c067fe266",
            "21e287a34a8f43deaa1f3a9cd7b2f7a1",
            "36aadbf1d15f4d949984bdf226247dae",
            "db0c362043f14e50a989c4bd40ff9ee1",
            "4bcebfc957ad4855a975b22c5163b3fc",
            "73d5bfb9890341ffb859b54ead6875f7",
            "c667ef6afa9f4cddb4c8abdf9086fdbd",
            "a682bbe3ea374959abed6c5d9e17a226",
            "bc52addcc7984a78926eccc726879ca0",
            "8532b1b6f8554d18b13651932590fb8a",
            "39d09caff18b4fee97d69cd9fb36bbb3",
            "c7bc3ff013f84e6485851438d92c3864",
            "f5f2ed0cd80d4893b62982019f038d13"
          ]
        },
        "id": "LxcN8VzEdYIq",
        "outputId": "a7e0300c-e564-4c2e-9358-0e9350f7d8e0"
      },
      "execution_count": 3,
      "outputs": [
        {
          "output_type": "stream",
          "name": "stderr",
          "text": [
            "/usr/local/lib/python3.11/dist-packages/huggingface_hub/utils/_auth.py:94: UserWarning: \n",
            "The secret `HF_TOKEN` does not exist in your Colab secrets.\n",
            "To authenticate with the Hugging Face Hub, create a token in your settings tab (https://huggingface.co/settings/tokens), set it as secret in your Google Colab and restart your session.\n",
            "You will be able to reuse this secret in all of your notebooks.\n",
            "Please note that authentication is recommended but still optional to access public models or datasets.\n",
            "  warnings.warn(\n"
          ]
        },
        {
          "output_type": "display_data",
          "data": {
            "text/plain": [
              "train_data.csv:   0%|          | 0.00/1.17M [00:00<?, ?B/s]"
            ],
            "application/vnd.jupyter.widget-view+json": {
              "version_major": 2,
              "version_minor": 0,
              "model_id": "4f381e9dbdd04484afd5f9af2911c1db"
            }
          },
          "metadata": {}
        },
        {
          "output_type": "display_data",
          "data": {
            "text/plain": [
              "validation_data.csv:   0%|          | 0.00/233k [00:00<?, ?B/s]"
            ],
            "application/vnd.jupyter.widget-view+json": {
              "version_major": 2,
              "version_minor": 0,
              "model_id": "e03182b5acab497cba84f31bb13dcb6a"
            }
          },
          "metadata": {}
        },
        {
          "output_type": "display_data",
          "data": {
            "text/plain": [
              "experiment_data.csv:   0%|          | 0.00/933k [00:00<?, ?B/s]"
            ],
            "application/vnd.jupyter.widget-view+json": {
              "version_major": 2,
              "version_minor": 0,
              "model_id": "36aadbf1d15f4d949984bdf226247dae"
            }
          },
          "metadata": {}
        }
      ]
    },
    {
      "cell_type": "markdown",
      "metadata": {
        "id": "k9X8aaF8vf2i"
      },
      "source": [
        "First, we'll track which columns have numerical values and which are categorical. We'll also pay special attention to the target column and weight column."
      ]
    },
    {
      "cell_type": "code",
      "execution_count": 4,
      "metadata": {
        "colab": {
          "base_uri": "https://localhost:8080/"
        },
        "id": "ztICFE28Lrce",
        "outputId": "7178a6ee-cb17-491d-8a66-d02c4f5b3cdb"
      },
      "outputs": [
        {
          "output_type": "stream",
          "name": "stdout",
          "text": [
            "Numerical Features: ['age', 'educational-num', 'capital-gain', 'capital-loss', 'hours-per-week']\n",
            "Categorical Features: ['workclass', 'education', 'marital-status', 'occupation', 'relationship', 'race', 'gender', 'native-country', 'income']\n"
          ]
        }
      ],
      "source": [
        "# Identify numerical columns (int, float)\n",
        "numerical_columns = train_data.select_dtypes(include=['int64', 'float64']).columns.tolist()\n",
        "\n",
        "# Identify categorical columns (object, category)\n",
        "categorical_columns = train_data.select_dtypes(include=['object', 'category']).columns.tolist()\n",
        "\n",
        "# Print the feature names (column names)\n",
        "print(\"Numerical Features:\", numerical_columns)\n",
        "print(\"Categorical Features:\", categorical_columns)"
      ]
    },
    {
      "cell_type": "code",
      "execution_count": 5,
      "metadata": {
        "id": "fjJVrRkKLqMW"
      },
      "outputs": [],
      "source": [
        "# Define the columns based on the categories you mentioned\n",
        "TARGET_COLUMN_NAME = \"income\"  # The column we're predicting\n",
        "TARGET_LABELS = [\"<=50K\", \">50K\"]  # Treat income as a categorical target variable with these two possible labels.\n",
        "\n",
        "# Numeric features based on the output\n",
        "NUMERIC_FEATURE_NAMES = [\n",
        "    'age',\n",
        "    'educational-num',\n",
        "    'capital-gain',\n",
        "    'capital-loss',\n",
        "    'hours-per-week'\n",
        "]\n",
        "\n",
        "# Categorical features based on the output\n",
        "CATEGORICAL_FEATURE_NAMES = [\n",
        "    'workclass',\n",
        "    'education',\n",
        "    'marital-status',\n",
        "    'occupation',\n",
        "    'relationship',\n",
        "    'race',\n",
        "    'gender',\n",
        "    'native-country'\n",
        "]"
      ]
    },
    {
      "cell_type": "markdown",
      "metadata": {
        "id": "6O7dD_kGhxfn"
      },
      "source": [
        "Now, we Create copies of dataframes to work on"
      ]
    },
    {
      "cell_type": "code",
      "execution_count": 6,
      "metadata": {
        "id": "1305CejrxijP"
      },
      "outputs": [],
      "source": [
        "# Create copies to work on\n",
        "train_data = train_data.copy()\n",
        "val_data = val_data.copy()\n",
        "test_data = test_data.copy()"
      ]
    },
    {
      "cell_type": "markdown",
      "metadata": {
        "id": "9LGLcHifwu3Q"
      },
      "source": [
        "Now we will show the shapes of the training and test dataframes"
      ]
    },
    {
      "cell_type": "code",
      "execution_count": 7,
      "metadata": {
        "colab": {
          "base_uri": "https://localhost:8080/"
        },
        "id": "Y0-FYIJGx1xW",
        "outputId": "f31b3868-ec7b-4b7f-d54a-a4a9c4f1ff73"
      },
      "outputs": [
        {
          "output_type": "stream",
          "name": "stdout",
          "text": [
            "Train data shape: (11208, 14)\n",
            "Test data shape: (8968, 14)\n",
            "Validation data shape: (2240, 14)\n"
          ]
        }
      ],
      "source": [
        "print(f\"Train data shape: {train_data.shape}\")\n",
        "print(f\"Test data shape: {test_data.shape}\")\n",
        "print(f\"Validation data shape: {val_data.shape}\")"
      ]
    },
    {
      "cell_type": "markdown",
      "metadata": {
        "id": "1T65T-HLwfGH"
      },
      "source": [
        "The target column (`income`) is first converted from string labels (`'<=50K'`, `'>50K'`) to numeric values (0, 1) for compatibility with scikit-learn.\n",
        "\n",
        "In addition, all categorical feature columns are cast to string type to ensure consistency and avoid potential dtype issues during encoding.\n",
        "\n",
        "This prepares the dataset for subsequent Label Encoding."
      ]
    },
    {
      "cell_type": "code",
      "execution_count": 8,
      "metadata": {
        "id": "77yk5jFUws1A"
      },
      "outputs": [],
      "source": [
        "def prepare_dataframe(df):\n",
        "    # Convert the target labels from string to integer.\n",
        "    df[TARGET_COLUMN_NAME] = df[TARGET_COLUMN_NAME].map(\n",
        "        TARGET_LABELS.index\n",
        "    )\n",
        "    # Cast the categorical features to string.\n",
        "    for feature_name in CATEGORICAL_FEATURE_NAMES:\n",
        "        df[feature_name] = df[feature_name].astype(str)\n",
        "\n",
        "\n",
        "prepare_dataframe(train_data)\n",
        "prepare_dataframe(val_data)\n",
        "prepare_dataframe(test_data)"
      ]
    },
    {
      "cell_type": "markdown",
      "source": [
        "Before training the Gradient Boosted Trees (GBT) model, it is necessary to convert all categorical (non-numeric) features into numerical format, since scikit-learn models cannot process string data directly.\n",
        "\n",
        "In this step, we apply Label Encoding to all categorical features. Label Encoding assigns a unique integer value to each category within a feature.\n",
        "\n",
        "To avoid data leakage, we:\n",
        "\n",
        "1. fit the encoder only on the training set.\n",
        "\n",
        "2. apply (transform) the same encoding to the validation and test sets"
      ],
      "metadata": {
        "id": "kc1EGs8W9Q56"
      }
    },
    {
      "cell_type": "code",
      "source": [
        "# Save encoders to reuse\n",
        "encoders = {}\n",
        "\n",
        "for col in CATEGORICAL_FEATURE_NAMES:\n",
        "    # Combine all values for fitting\n",
        "    combined_values = pd.concat([train_data[col], val_data[col], test_data[col]], axis=0)\n",
        "\n",
        "    le = LabelEncoder()\n",
        "    le.fit(combined_values)  # Fit on all available data (to cover all categories)\n",
        "\n",
        "    # Transform individually to preserve dataset structure\n",
        "    train_data[col] = le.transform(train_data[col])\n",
        "    val_data[col] = le.transform(val_data[col])\n",
        "    test_data[col] = le.transform(test_data[col])\n",
        "\n",
        "    encoders[col] = le  # Save for reuse\n",
        "\n",
        "print(\"All categorical features encoded successfully.\")"
      ],
      "metadata": {
        "colab": {
          "base_uri": "https://localhost:8080/"
        },
        "id": "lx5DmtQj9WJb",
        "outputId": "53c6d052-5dfc-4cdf-ab6b-c7729aafd6b6"
      },
      "execution_count": 9,
      "outputs": [
        {
          "output_type": "stream",
          "name": "stdout",
          "text": [
            "All categorical features encoded successfully.\n"
          ]
        }
      ]
    },
    {
      "cell_type": "markdown",
      "source": [],
      "metadata": {
        "id": "3_vYU1yI7y93"
      }
    },
    {
      "cell_type": "markdown",
      "metadata": {
        "id": "MLdPvOpRuLy1"
      },
      "source": [
        "### 3. Model Training & Evaluation\n",
        "We'll train a **Gradient Boosted Trees (GBT)** model using the `GradientBoostingClassifier` from the scikit-learn library.\n",
        "\n",
        "This model is chosen because:\n",
        "- It improves predictive performance over standard decision trees.\n",
        "- It reduces overfitting by sequentially training trees, each correcting the errors of the previous one.\n",
        "- It provides flexibility to handle both numerical and encoded categorical features (after preprocessing).\n",
        "- It integrates seamlessly with the scikit-learn ecosystem and works efficiently for tabular data."
      ]
    },
    {
      "cell_type": "code",
      "execution_count": 10,
      "metadata": {
        "colab": {
          "base_uri": "https://localhost:8080/"
        },
        "id": "HZ8b6R1R0NqT",
        "outputId": "43a5d3a7-10a7-4a1c-8edd-fa6826d03d37"
      },
      "outputs": [
        {
          "output_type": "stream",
          "name": "stdout",
          "text": [
            "GBT model initialized successfully.\n"
          ]
        }
      ],
      "source": [
        "# Gradient Boosted Trees (GBT) model for classification with configured hyperparameters\n",
        "\n",
        "model_gbt = GradientBoostingClassifier(\n",
        "    n_estimators=250,       # Number of boosting stages (trees)\n",
        "    max_depth=5,            # Maximum depth of each tree\n",
        "    min_samples_leaf=6,     # Minimum number of samples required at a leaf node\n",
        "    subsample=0.65,         # Fraction of samples to be used for fitting each base learner\n",
        "    random_state=42         # For reproducibility\n",
        ")\n",
        "\n",
        "print(\"GBT model initialized successfully.\")\n"
      ]
    },
    {
      "cell_type": "markdown",
      "metadata": {
        "id": "UBj3lk7vSTQb"
      },
      "source": [
        "The run_experiment() method separates features and target labels from the datasets, trains the scikit-learn Gradient Boosting Classifier on the training set, and evaluates its performance on the validation and test sets.\n",
        "\n",
        "The function calculates standard classification metrics, including accuracy, precision, recall, F1-score, and ROC-AUC.\n",
        "\n",
        "Training time is also measured to assess computational efficiency."
      ]
    },
    {
      "cell_type": "code",
      "execution_count": 11,
      "metadata": {
        "id": "ovm3QNCVTpGA"
      },
      "outputs": [],
      "source": [
        "def run_experiment(model, train_data, val_data, test_data):\n",
        "    # Exclude target\n",
        "    exclude_columns = [TARGET_COLUMN_NAME]\n",
        "\n",
        "    # Separate features and labels\n",
        "    X_train = train_data.drop(columns=exclude_columns)\n",
        "    y_train = train_data[TARGET_COLUMN_NAME]\n",
        "\n",
        "    X_val = val_data.drop(columns=exclude_columns)\n",
        "    y_val = val_data[TARGET_COLUMN_NAME]\n",
        "\n",
        "    X_test = test_data.drop(columns=exclude_columns)\n",
        "    y_test = test_data[TARGET_COLUMN_NAME]\n",
        "\n",
        "    # Train the model\n",
        "    start_time = time.time()\n",
        "    model.fit(X_train, y_train)\n",
        "    end_time = time.time()\n",
        "\n",
        "    training_time = end_time - start_time\n",
        "\n",
        "    # Evaluate on test set\n",
        "    y_pred = model.predict(X_test)\n",
        "\n",
        "    # Correctly Predicted\n",
        "    correct_predictions = np.sum(y_test == y_pred)\n",
        "    total_predictions = len(y_test)\n",
        "    print(f\"Correctly Predicted: {correct_predictions}/{total_predictions}\")\n",
        "\n",
        "    # Calculate metrics\n",
        "    precision = precision_score(y_test, y_pred)\n",
        "    recall = recall_score(y_test, y_pred)\n",
        "    f1 = f1_score(y_test, y_pred)\n",
        "    accuracy = accuracy_score(y_test, y_pred)\n",
        "    auc = roc_auc_score(y_test, model.predict_proba(X_test)[:, 1])\n",
        "\n",
        "    print(f\"Model evaluation complete:\")\n",
        "    print(f\"Accuracy: {accuracy:.4f}\")\n",
        "    print(f\"Precision: {precision:.4f}\")\n",
        "    print(f\"Recall: {recall:.4f}\")\n",
        "    print(f\"F1 Score: {f1:.4f}\")\n",
        "    print(f\"ROC AUC: {auc:.4f}\")\n",
        "    print(f\"Training Time: {training_time:.4f} seconds\")\n",
        "\n",
        "    return model\n"
      ]
    },
    {
      "cell_type": "code",
      "source": [
        "model_gbt = run_experiment(model_gbt, train_data, val_data, test_data)"
      ],
      "metadata": {
        "colab": {
          "base_uri": "https://localhost:8080/"
        },
        "id": "MmDKAJbJBJuG",
        "outputId": "0a92b408-553a-4583-cd4c-0e1e1d9c0743"
      },
      "execution_count": 12,
      "outputs": [
        {
          "output_type": "stream",
          "name": "stdout",
          "text": [
            "Correctly Predicted: 7434/8968\n",
            "Model evaluation complete:\n",
            "Accuracy: 0.8289\n",
            "Precision: 0.8187\n",
            "Recall: 0.8450\n",
            "F1 Score: 0.8317\n",
            "ROC AUC: 0.9189\n",
            "Training Time: 4.2082 seconds\n"
          ]
        }
      ]
    },
    {
      "cell_type": "markdown",
      "source": [
        "Due to the known imbalance of the Adult dataset (~75% vs ~25% class distribution), the model's recall is lower compared to precision."
      ],
      "metadata": {
        "id": "qjFwvGVjCrVt"
      }
    },
    {
      "cell_type": "markdown",
      "source": [
        "We extract and display the relative importance of each feature using the trained model's `feature_importances_` attribute."
      ],
      "metadata": {
        "id": "nrhP0ZkZHlQU"
      }
    },
    {
      "cell_type": "code",
      "source": [
        "# Feature importance analysis for sklearn Gradient Boosting\n",
        "feature_names = train_data.drop(columns=[TARGET_COLUMN_NAME]).columns\n",
        "importances = model_gbt.feature_importances_\n",
        "\n",
        "feature_importance_dict = dict(zip(feature_names, importances))\n",
        "sorted_importances = sorted(feature_importance_dict.items(), key=lambda x: x[1], reverse=True)\n",
        "\n",
        "print(\" Feature Importances:\")\n",
        "for feature, importance in sorted_importances:\n",
        "    print(f\"{feature}: {importance:.4f}\")"
      ],
      "metadata": {
        "colab": {
          "base_uri": "https://localhost:8080/"
        },
        "id": "oIaS_JW3Gldc",
        "outputId": "9992e26c-d279-4018-834a-dbbef483dc14"
      },
      "execution_count": 13,
      "outputs": [
        {
          "output_type": "stream",
          "name": "stdout",
          "text": [
            " Feature Importances:\n",
            "relationship: 0.3126\n",
            "educational-num: 0.1493\n",
            "capital-gain: 0.1296\n",
            "age: 0.1113\n",
            "hours-per-week: 0.0733\n",
            "marital-status: 0.0713\n",
            "occupation: 0.0452\n",
            "capital-loss: 0.0437\n",
            "workclass: 0.0224\n",
            "education: 0.0152\n",
            "native-country: 0.0128\n",
            "race: 0.0080\n",
            "gender: 0.0052\n"
          ]
        }
      ]
    },
    {
      "cell_type": "markdown",
      "source": [
        "Receiver Operating Characteristic (ROC) Curve\n",
        "\n",
        "ROC curve is a graphical representation of a classifier's performance across different classification thresholds.  \n",
        "It plots the **True Positive Rate (Sensitivity)** against the **False Positive Rate (1 - Specificity)** at various threshold settings.  \n",
        "The ROC curve helps to evaluate the trade-off between sensitivity and specificity.  \n",
        "A model with a curve closer to the top-left corner indicates better performance.  \n",
        "The **Area Under the Curve (AUC)** summarizes the overall ability of the model to distinguish between the classes, where an AUC of 1.0 represents a perfect classifier and 0.5 represents random guessing."
      ],
      "metadata": {
        "id": "x41Tgaa3InYQ"
      }
    },
    {
      "cell_type": "code",
      "source": [
        "# Prepare test data\n",
        "X_test = test_data.drop(columns=[TARGET_COLUMN_NAME])\n",
        "y_true = test_data[TARGET_COLUMN_NAME].values\n",
        "\n",
        "# Predict probabilities for the positive class\n",
        "y_proba = model_gbt.predict_proba(X_test)[:, 1]\n",
        "\n",
        "# Compute ROC AUC score\n",
        "roc_auc = roc_auc_score(y_true, y_proba)\n",
        "print(f\"ROC AUC: {roc_auc:.4f}\")\n",
        "\n",
        "# Compute ROC curve points\n",
        "fpr, tpr, thresholds = roc_curve(y_true, y_proba)\n",
        "\n",
        "# Plot the ROC curve\n",
        "plt.figure(figsize=(8,6))\n",
        "plt.plot(fpr, tpr, label=f\"ROC Curve (AUC = {roc_auc:.4f})\", linewidth=2)\n",
        "plt.plot([0, 1], [0, 1], 'k--', label=\"Random Classifier (AUC = 0.5)\")\n",
        "plt.xlabel(\"False Positive Rate\")\n",
        "plt.ylabel(\"True Positive Rate\")\n",
        "plt.title(\"Receiver Operating Characteristic (ROC) Curve\")\n",
        "plt.legend(loc=\"lower right\")\n",
        "plt.grid(True)\n",
        "plt.tight_layout()\n",
        "plt.show()"
      ],
      "metadata": {
        "colab": {
          "base_uri": "https://localhost:8080/",
          "height": 624
        },
        "id": "bahOrx0TH7eF",
        "outputId": "6f48e098-4ae8-4536-bbe3-4c99657e28de"
      },
      "execution_count": 14,
      "outputs": [
        {
          "output_type": "stream",
          "name": "stdout",
          "text": [
            "ROC AUC: 0.9189\n"
          ]
        },
        {
          "output_type": "display_data",
          "data": {
            "text/plain": [
              "<Figure size 800x600 with 1 Axes>"
            ],
            "image/png": "[encoded data removed]"
          },
          "metadata": {}
        }
      ]
    },
    {
      "cell_type": "markdown",
      "source": [
        "ROC Curve Results\n",
        "\n",
        "The ROC curve generated for our Gradient Boosting Classifier shows a strong separation between the positive and negative classes.  \n",
        "The model achieved an **AUC of 0.9189**, indicating excellent discriminative ability.  \n",
        "This result suggests that the classifier is highly effective at correctly identifying positive cases (income >50K) while maintaining a low false positive rate.\n"
      ],
      "metadata": {
        "id": "4RqOupeOI5EX"
      }
    }
  ]
}